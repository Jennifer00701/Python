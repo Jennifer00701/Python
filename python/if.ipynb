{
 "cells": [
  {
   "cell_type": "code",
   "execution_count": null,
   "metadata": {},
   "outputs": [],
   "source": [
    "# while 문\n",
    "참 또는 거짓 (조건이 참이면 실행, 거짓이면 코드블록이 실행되질 않고 while 루프 종료)\n",
    "\n",
    "코드 블록 내의 모든 문장을 반복적으로 실행하며 각 반복에서 조건이 검사됨\n",
    "조건이 참이면 코드블록이 실행되고, 다시 조건을 검사하고 반복여부를 결정\n",
    "조건이 거짓이면 코드블록이 실행되질 않고 while 루프 종료\n",
    "   \n",
    "   \n",
    "x = 10\n",
    "\n",
    "if x > 10:\n",
    "    print(\"x는 10보다 큽니다.\")\n",
    "elif x < 10:\n",
    "    print(\"x는 10보다 작습니다.\")\n",
    "else:\n",
    "    print(\"x는 10입니다.\")\n",
    "\n",
    "if 문은 조건이 참(True)일 때 특정 코드 블록을 실행합니다.\n",
    "elif는 'else if'의 줄임말로, 이전 조건이 거짓(False)일 때 추가적인 조건을 체크합니다.\n",
    "else 문은 모든 이전 조건이 거짓(False)일 때 실행됩니다.\n",
    "\n",
    "\n",
    " Python에서는 else 문 다음에는 조건을 지정하지 않습니다. 올바른 사용법은 elif를 사용하여 추가적인 조건을 체크하거나, else를 사용하여 모든 이전 조건이 거짓일 때 실행할 코드를 지정하는 것입니다.\n",
    "\n",
    "저축.py참고 "
   ]
  }
 ],
 "metadata": {
  "language_info": {
   "name": "python"
  }
 },
 "nbformat": 4,
 "nbformat_minor": 2
}
