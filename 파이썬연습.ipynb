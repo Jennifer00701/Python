for animal in ("A","B","C","D"):
    print(animal)